{
 "cells": [
  {
   "cell_type": "code",
   "execution_count": null,
   "metadata": {},
   "outputs": [],
   "source": []
  }
 ],
 "metadata": {
  "kernelspec": {
   "display_name": "Python 3.9.12 ('base')",
   "language": "python",
   "name": "python3"
  },
  "language_info": {
   "name": "python",
   "version": "3.9.12"
  },
  "vscode": {
   "interpreter": {
    "hash": "26d81ef174c2070ce33b478eb4a4cb41a29de11f5875e31e07e6712cbe5ff202"
   }
  }
 },
 "nbformat": 4,
 "nbformat_minor": 5
}
